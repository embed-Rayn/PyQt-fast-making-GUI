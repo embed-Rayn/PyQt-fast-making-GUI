{
 "cells": [
  {
   "cell_type": "markdown",
   "execution_count": null,
   "metadata": {},
   "outputs": [],
   "source": [
    "## Input - QComboBox\n",
    "\n",
    "![QComboBox](https://doc.qt.io/qtforpython/_images/inheritance-a05b41e66723a5dc8e4ea94b319f4b0fc5bebfd2.png)"
   ]
  },
  {
   "cell_type": "code",
   "execution_count": null,
   "metadata": {},
   "outputs": [],
   "source": [
    "import sys\n",
    "from PyQt5.QtWidgets import *\n",
    "from PyQt5 import uic\n",
    "\n",
    "form_class = uic.loadUiType(\"comboboxTest.ui\")[0]\n",
    "\n",
    "class WindowClass(QMainWindow, form_class) :\n",
    "    def __init__(self) :\n",
    "        super().__init__()\n",
    "        self.setupUi(self)\n",
    "\n",
    "        #프로그램 실행 시 두개의 ComboBox를 동기화시키는 코드\n",
    "        self.syncComboBox()\n",
    "\n",
    "        #ComboBox에 기능 연결\n",
    "        self.cmb_Test.currentIndexChanged.connect(self.comboBoxFunction)\n",
    "\n",
    "        #버튼에 기능 연결\n",
    "        self.btn_printItem.clicked.connect(self.printComboBoxItem) ## 각 버튼별 이름 지정\n",
    "        self.btn_clearItem.clicked.connect(self.clearComboBoxItem) ## 각 버튼별 이름 지정\n",
    "        self.btn_addItem.clicked.connect(self.addComboBoxItem) ## 각 버튼별 이름 지정\n",
    "        self.btn_deleteItem.clicked.connect(self.deleteComboBoxItem) ## 각 버튼별 이름 지정\n",
    "\n",
    "    def syncComboBox(self) :\n",
    "        for i in range(0,self.cmb_Test.count()) :\n",
    "            self.cmb_second.addItem(self.cmb_Test.itemText(i))\n",
    "\n",
    "    def comboBoxFunction(self) :\n",
    "        self.lbl_display.setText(self.cmb_Test.currentText())\n",
    "\n",
    "    def clearComboBoxItem(self) :\n",
    "        self.cmb_Test.clear()\n",
    "        self.cmb_second.clear()\n",
    "\n",
    "    def printComboBoxItem(self) :\n",
    "        print(self.cmb_second.currentText()) ###추가 한 아이템을 프린트하면 오류가 발생함. 원인 못 찾음\n",
    "\n",
    "    def addComboBoxItem(self) :\n",
    "        self.cmb_Test.addItem(self.lineedit_addItem.text()) ##추가 아이템 line edit 이름 지정 'lineedit_addItem'\n",
    "        self.cmb_second.addItem(self.lineedit_addItem.text())\n",
    "        print(\"Item Added\")\n",
    "\n",
    "    def deleteComboBoxItem(self) :\n",
    "        self.delidx = self.cmb_second.currentIndex()\n",
    "        self.cmb_Test.removeItem(self.delidx)\n",
    "        self.cmb_second.removeItem(self.delidx)\n",
    "        print(\"Item Deleted\")\n",
    "\n",
    "if __name__ == \"__main__\" :\n",
    "    app = QApplication(sys.argv)\n",
    "    myWindow = WindowClass()\n",
    "    myWindow.show()\n",
    "    app.exec_() "
   ]
  },
  {
   "cell_type": "markdown",
   "execution_count": null,
   "metadata": {},
   "outputs": [],
   "source": [
    "## QSpinBox, QDoubleSpinBox\n",
    "- SpinBox: 버튼을 이용하여 상자 안의 숫자의 크기를 조절할 수 있는 위젯\n",
    "- QSpinBox 정수값, QDoubleSpinBox 실수값을 표현할 수 있는 위젯\n",
    "\n",
    "![QSpinBox](https://doc.qt.io/qtforpython/_images/inheritance-a97ac1f5c9bdc3f236786f953b02ebd7b6c5190c.png)\n",
    "![QDoubleSpinBox](https://doc.qt.io/qtforpython/_images/inheritance-aeba70c3fa38e752558a45e48de79295fa642c27.png)"
   ]
  },
  {
   "cell_type": "markdown",
   "metadata": {},
   "source": [
    "## 유사 기능 구현 프로그램\n",
    "[심전도 관련 계산기] (https://www.mdcalc.com/corrected-qt-interval-qtc)\n",
    "[신경학적 평가 계산기] (https://www.mdcalc.com/glasgow-coma-scale-score-gcs)"
   ]
  },
  {
   "cell_type": "code",
   "execution_count": 1,
   "metadata": {},
   "outputs": [
    {
     "name": "stdout",
     "output_type": "stream",
     "text": "1\n1.0\n2\n2.0\n3.0\nMaximum value is 99\nMinimum value is 0\nStep Size is 1\nMaximum value is 99.99\nMinimum value is 0.0\nStep Size is 1.0\n1\n0\n"
    }
   ],
   "source": [
    "import sys\n",
    "from PyQt5.QtWidgets import *\n",
    "from PyQt5 import uic\n",
    "\n",
    "form_class = uic.loadUiType(\"spinboxTest.ui\")[0]\n",
    "\n",
    "class WindowClass(QMainWindow, form_class) :\n",
    "    def __init__(self) :\n",
    "        super().__init__()\n",
    "        self.setupUi(self)\n",
    "\n",
    "        self.spinbox_Test.valueChanged.connect(self.printValue)\n",
    "        self.btn_showInfo.clicked.connect(self.printInfo)\n",
    "        self.btn_changeRangeStep.clicked.connect(self.changeRangeStep)\n",
    "\n",
    "        self.doublespinbox_Test.valueChanged.connect(self.printDoubleValue)\n",
    "        self.btn_doubleShowInfo.clicked.connect(self.printDoubleInfo)\n",
    "        self.btn_doubleChangeRangeStep.clicked.connect(self.doubleChangeRangeStep)\n",
    "\n",
    "    def printValue(self) :\n",
    "        print(self.spinbox_Test.value())\n",
    "\n",
    "    def printInfo(self) :\n",
    "        print(\"Maximum value is\",self.spinbox_Test.maximum())\n",
    "        print(\"Minimum value is\",self.spinbox_Test.minimum())\n",
    "        print(\"Step Size is\",self.spinbox_Test.singleStep())\n",
    "\n",
    "    def changeRangeStep(self) : ## change 버튼 기능 오류 발생/ spinbox 값 범위를 변경기능\n",
    "        self.spinbox_Test.setRange(0,1000)\n",
    "        self.spinbox_Test.setStep(10)\n",
    "\n",
    "    def printDoubleValue(self) :\n",
    "        print(self.doublespinbox_Test.value())\n",
    "\n",
    "    def printDoubleInfo(self) :\n",
    "        print(\"Maximum value is\",self.doublespinbox_Test.maximum())\n",
    "        print(\"Minimum value is\",self.doublespinbox_Test.minimum())\n",
    "        print(\"Step Size is\",self.doublespinbox_Test.singleStep())\n",
    "\n",
    "    def doubleChangeRangeStep(self) :\n",
    "        self.doublespinbox_Test.setRange(0,1000)\n",
    "        self.doublespinbox_Test.setStep(1.5)\n",
    "\n",
    "if __name__ == \"__main__\" :\n",
    "    app = QApplication(sys.argv)\n",
    "    myWindow = WindowClass()\n",
    "    myWindow.show()\n",
    "    app.exec_() "
   ]
  },
  {
   "cell_type": "markdown",
   "execution_count": null,
   "metadata": {},
   "outputs": [],
   "source": [
    "## "
   ]
  },
  {
   "cell_type": "code",
   "execution_count": null,
   "metadata": {},
   "outputs": [],
   "source": []
  }
 ],
 "metadata": {
  "kernelspec": {
   "display_name": "Python 3",
   "language": "python",
   "name": "python3"
  },
  "language_info": {
   "codemirror_mode": {
    "name": "ipython",
    "version": 3
   },
   "file_extension": ".py",
   "mimetype": "text/x-python",
   "name": "python",
   "nbconvert_exporter": "python",
   "pygments_lexer": "ipython3",
   "version": "3.7.3-final"
  }
 },
 "nbformat": 4,
 "nbformat_minor": 2
}