{
 "cells": [
  {
   "cell_type": "code",
   "execution_count": 1,
   "metadata": {},
   "outputs": [
    {
     "name": "stdout",
     "output_type": "stream",
     "text": [
      "PyQt5.QtCore.QDate(2020, 5, 25)\n"
     ]
    }
   ],
   "source": [
    "import sys\n",
    "from PyQt5.QtWidgets import *\n",
    "from PyQt5.QtCore import *\n",
    "from PyQt5 import uic\n",
    "\n",
    "form_class = uic.loadUiType(\"calendarTest.ui\")[0]\n",
    "\n",
    "class WindowClass(QMainWindow, form_class) :\n",
    "    def __init__(self) :\n",
    "        super().__init__()\n",
    "        self.setupUi(self)\n",
    "\n",
    "        #QCalendarWidget의 시그널\n",
    "        self.calendarWidget_Test.clicked.connect(self.calendarClicked)\n",
    "        self.calendarWidget_Test.currentPageChanged.connect(self.calendarPageChanged)\n",
    "        self.calendarWidget_Test.selectionChanged.connect(self.calendarSelectionChanged)        \n",
    "\n",
    "        #QCalendarWidget이 자동으로 오늘 날짜가 있는 달력을 보여주게 설정\n",
    "        self.todayDate = QDate.currentDate()\n",
    "        self.calendarWidget_Test.setCurrentPage(self.todayDate.year(), self.todayDate.month())\n",
    "\n",
    "        #버튼에 기능 연결\n",
    "        self.btn_prevMonth.clicked.connect(self.prevMonth)\n",
    "        self.btn_nextMonth.clicked.connect(self.nextMonth)\n",
    "        self.btn_today.clicked.connect(self.today)\n",
    "\n",
    "    #CalendarWidget의 시그널에 연결된 함수들\n",
    "    def calendarClicked(self) :\n",
    "        print(self.calendarWidget_Test.selectedDate())\n",
    "\n",
    "    def calendarPageChanged(self) :\n",
    "        self.year = str(self.calendarWidget_Test.yearShown()) + \"년\"\n",
    "        self.month = str(self.calendarWidget_Test.monthShown()) + \"월\"\n",
    "        self.lbl_currentPage.setText(self.year + \" \" + self.month)\n",
    "\n",
    "    def calendarSelectionChanged(self) :\n",
    "        self.selectedDateVar = self.calendarWidget_Test.selectedDate()\n",
    "        self.lbl_selectedDate.setText(self.selectedDateVar.toString())\n",
    "\n",
    "    #버튼에 연결된 함수들\n",
    "    def prevMonth(self) :\n",
    "        self.calendarWidget_Test.showPreviousMonth()\n",
    "\n",
    "    def nextMonth(self) :\n",
    "        self.calendarWidget_Test.showNextMonth()\n",
    "\n",
    "    def today(self) :\n",
    "        self.calendarWidget_Test.showToday()\n",
    "\n",
    "\n",
    "if __name__ == \"__main__\" :\n",
    "    app = QApplication(sys.argv)\n",
    "    myWindow = WindowClass()\n",
    "    myWindow.show()\n",
    "    app.exec_() "
   ]
  }
 ],
 "metadata": {
  "kernelspec": {
   "display_name": "Python 3",
   "language": "python",
   "name": "python3"
  },
  "language_info": {
   "codemirror_mode": {
    "name": "ipython",
    "version": 3
   },
   "file_extension": ".py",
   "mimetype": "text/x-python",
   "name": "python",
   "nbconvert_exporter": "python",
   "pygments_lexer": "ipython3",
   "version": "3.7.6"
  }
 },
 "nbformat": 4,
 "nbformat_minor": 4
}
