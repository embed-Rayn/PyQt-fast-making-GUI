{
 "cells": [
  {
   "cell_type": "markdown",
   "metadata": {},
   "source": [
    "# QMainWindow"
   ]
  },
  {
   "cell_type": "markdown",
   "metadata": {},
   "source": [
    "메인창(Main window)은 메뉴바, 툴바, 상태바를 갖는 전형적인 어플리케이션 창입니다. ([QMainWindow 공식 문서](https://doc.qt.io/qt-5/qmainwindow.html) 참고)<br>\n",
    "![](https://wikidocs.net/images/page/21928/mainwindowlayout.png)\n"
   ]
  },
  {
   "cell_type": "markdown",
   "metadata": {},
   "source": [
    "### form 생성\n",
    "![](https://github.com/embed-Rayn/PyQt-fast-making-GUI/blob/master/images/mainwidnow1.png?raw=true)\n",
    "### 메뉴 추가\n",
    "![](https://github.com/embed-Rayn/PyQt-fast-making-GUI/blob/master/images/mainwidnow2.png?raw=true)\n",
    "### 액션 및 구분선 추가\n",
    "![](https://github.com/embed-Rayn/PyQt-fast-making-GUI/blob/master/images/mainwidnow3.png?raw=true)\n",
    "### 액션 아래 액션 추가\n",
    "\\+ 버튼으로 우로 확장 가능<br>\n",
    "![](https://github.com/embed-Rayn/PyQt-fast-making-GUI/blob/master/images/mainwidnow4.png?raw=true)\n",
    "### 메뉴 진입 핫키 추가\n",
    "title에 &를 붙여서 단축키 생성<br>\n",
    "File 앞에 &를 붙여 &File이면 alt + F를 눌러 File 메뉴 진입 <br>\n",
    "F&ile이면 alt + i를 눌러 File 메뉴 진입<br>\n",
    "![](https://github.com/embed-Rayn/PyQt-fast-making-GUI/blob/master/images/mainwidnow5.png?raw=true)\n",
    "### 액션 단축키 추가\n",
    "![](https://github.com/embed-Rayn/PyQt-fast-making-GUI/blob/master/images/mainwidnow6.png?raw=true)"
   ]
  },
  {
   "cell_type": "markdown",
   "metadata": {},
   "source": [
    "## QMainWindow 예제 in Designer"
   ]
  },
  {
   "cell_type": "markdown",
   "metadata": {},
   "source": [
    "#### 현재 모니터의 해상도 구하는 소스 코드\n",
    "어플리케이션 초기 크기를 설정해주기 위함"
   ]
  },
  {
   "cell_type": "code",
   "execution_count": 1,
   "metadata": {},
   "outputs": [
    {
     "name": "stdout",
     "output_type": "stream",
     "text": [
      "1920 1080\n"
     ]
    }
   ],
   "source": [
    "import ctypes\n",
    "\n",
    "user32 = ctypes.windll.user32\n",
    "screen_width = user32.GetSystemMetrics(0)\n",
    "screen_height = user32.GetSystemMetrics(1)\n",
    "\n",
    "print (screen_width, screen_height)"
   ]
  },
  {
   "cell_type": "code",
   "execution_count": 2,
   "metadata": {},
   "outputs": [
    {
     "ename": "SystemExit",
     "evalue": "0",
     "output_type": "error",
     "traceback": [
      "An exception has occurred, use %tb to see the full traceback.\n",
      "\u001b[1;31mSystemExit\u001b[0m\u001b[1;31m:\u001b[0m 0\n"
     ]
    },
    {
     "name": "stderr",
     "output_type": "stream",
     "text": [
      "c:\\users\\qwe14\\appdata\\local\\continuum\\anaconda3\\envs\\qt_env\\lib\\site-packages\\IPython\\core\\interactiveshell.py:3327: UserWarning: To exit: use 'exit', 'quit', or Ctrl-D.\n",
      "  warn(\"To exit: use 'exit', 'quit', or Ctrl-D.\", stacklevel=1)\n"
     ]
    }
   ],
   "source": [
    "## Ex 3-2. 어플리케이션 아이콘 넣기.\n",
    "\n",
    "import sys\n",
    "from PyQt5.QtWidgets import *\n",
    "from PyQt5.QtCore import *\n",
    "from PyQt5.QtGui import *\n",
    "from PyQt5 import uic\n",
    "form_class = uic.loadUiType(\"windowtest.ui\")[0]\n",
    "\n",
    "class MyApp(QMainWindow, form_class):\n",
    "\n",
    "    def __init__(self):\n",
    "        super().__init__()\n",
    "        self.setupUi(self)\n",
    "        self.initUI()\n",
    "        \n",
    "\n",
    "    def initUI(self):\n",
    "        ## 타이틀 설정\n",
    "        self.setWindowTitle('윈도우 테스트')\n",
    "        ## Icon 설정\n",
    "        self.setWindowIcon(QIcon('web.png'))\n",
    "        ## 크기 설정(시작 x좌표, 시작 y좌표, 너비, 높이)\n",
    "        self.setGeometry(100, 50, screen_width-100, screen_height-100)\n",
    "        \n",
    "        \n",
    "        self.show()\n",
    "\n",
    "\n",
    "if __name__ == '__main__':\n",
    "    app = QApplication(sys.argv)\n",
    "    ex = MyApp()\n",
    "    ex.show()\n",
    "    sys.exit(app.exec_())"
   ]
  },
  {
   "cell_type": "code",
   "execution_count": null,
   "metadata": {},
   "outputs": [],
   "source": []
  }
 ],
 "metadata": {
  "kernelspec": {
   "display_name": "Python 3",
   "language": "python",
   "name": "python3"
  },
  "language_info": {
   "codemirror_mode": {
    "name": "ipython",
    "version": 3
   },
   "file_extension": ".py",
   "mimetype": "text/x-python",
   "name": "python",
   "nbconvert_exporter": "python",
   "pygments_lexer": "ipython3",
   "version": "3.7.6"
  }
 },
 "nbformat": 4,
 "nbformat_minor": 4
}
