{
 "cells": [
  {
   "cell_type": "markdown",
   "metadata": {},
   "source": [
    "## 2.2 QPushButton"
   ]
  },
  {
   "cell_type": "code",
   "execution_count": 1,
   "metadata": {},
   "outputs": [
    {
     "name": "stdout",
     "output_type": "stream",
     "text": [
      "(<class 'Ui_Dialog'>, <class 'PyQt5.QtWidgets.QDialog'>)\n",
      "btn_1 Clicked\n",
      "btn_1 Clicked\n",
      "btn_2_Clicked\n",
      "btn_2_Clicked\n"
     ]
    }
   ],
   "source": [
    "import sys\n",
    "from PyQt5.QtWidgets import *\n",
    "from PyQt5 import uic\n",
    "\n",
    "## uic: ui 불러옴\n",
    "form_class = uic.loadUiType(\"pushbuttonTest.ui\")[0]\n",
    "print(uic.loadUiType(\"pushbuttonTest.ui\"))\n",
    "## form_class와 QMainWindow 다중 상속\n",
    "class WindowClass(QMainWindow, form_class):\n",
    "    ## 클래스 내부에서 함수는 self를 써야함\n",
    "    def __init__(self):\n",
    "        ## 생성자 상속\n",
    "        super().__init__()\n",
    "        ## uic 상속을 했기에 가능한 듯\n",
    "        self.setupUi(self)\n",
    "        \n",
    "        ## 버튼에 기능을 넣는 코드\n",
    "        self.btn_1.clicked.connect(self.button1Function)\n",
    "        self.btn_2.clicked.connect(self.button2Function)\n",
    "        \n",
    "    def button1Function(self):\n",
    "        print(\"btn_1 Clicked\")\n",
    "        \n",
    "    def button2Function(self):\n",
    "        print(\"btn_2_Clicked\")\n",
    "\n",
    "if __name__ == \"__main__\":\n",
    "    ## QtWidgets의 QApplication을 app\n",
    "    app = QApplication(sys.argv)\n",
    "    myWindow = WindowClass()\n",
    "    \n",
    "    ## QMainWindow를 상속 받았기에 .show() 가능한듯\n",
    "    myWindow.show()\n",
    "    ## .exec_() QApplication 의 함수\n",
    "    app.exec_()"
   ]
  },
  {
   "cell_type": "code",
   "execution_count": 1,
   "metadata": {},
   "outputs": [
    {
     "data": {
      "text/plain": [
       "['c:\\\\users\\\\qwe14\\\\appdata\\\\local\\\\continuum\\\\anaconda3\\\\envs\\\\qt_env\\\\lib\\\\site-packages\\\\ipykernel_launcher.py',\n",
       " '-f',\n",
       " 'C:\\\\Users\\\\qwe14\\\\AppData\\\\Roaming\\\\jupyter\\\\runtime\\\\kernel-849a8244-d47d-42b7-82dd-cf7f1049dd0b.json']"
      ]
     },
     "execution_count": 1,
     "metadata": {},
     "output_type": "execute_result"
    }
   ],
   "source": [
    "import sys\n",
    "sys.argv"
   ]
  },
  {
   "cell_type": "markdown",
   "metadata": {},
   "source": [
    "### signal\n",
    "시그널은 함수가 아니다.\n",
    "- clicked()\n",
    "- pressed()\n",
    "- released()\n",
    "\n",
    "### slot\n",
    "슬롯은 시그널이 보낸 값을 받아서 정의된 행위를 함.\n",
    "```python\n",
    "def showMenu ()\n",
    "```"
   ]
  },
  {
   "cell_type": "code",
   "execution_count": 1,
   "metadata": {},
   "outputs": [
    {
     "name": "stdout",
     "output_type": "stream",
     "text": [
      "btn_1 Pressed\n"
     ]
    },
    {
     "ename": "TypeError",
     "evalue": "initStyleOption(self, QStyleOptionButton): not enough arguments",
     "output_type": "error",
     "traceback": [
      "\u001b[1;31m---------------------------------------------------------------------------\u001b[0m",
      "\u001b[1;31mTypeError\u001b[0m                                 Traceback (most recent call last)",
      "\u001b[1;32m<ipython-input-1-3e7a9b14f171>\u001b[0m in \u001b[0;36mbutton1Function\u001b[1;34m(self)\u001b[0m\n\u001b[0;32m     30\u001b[0m     \u001b[1;32mdef\u001b[0m \u001b[0mbutton1Function\u001b[0m\u001b[1;33m(\u001b[0m\u001b[0mself\u001b[0m\u001b[1;33m)\u001b[0m\u001b[1;33m:\u001b[0m\u001b[1;33m\u001b[0m\u001b[1;33m\u001b[0m\u001b[0m\n\u001b[0;32m     31\u001b[0m         \u001b[0mprint\u001b[0m\u001b[1;33m(\u001b[0m\u001b[1;34m\"btn_1 Pressed\"\u001b[0m\u001b[1;33m)\u001b[0m\u001b[1;33m\u001b[0m\u001b[1;33m\u001b[0m\u001b[0m\n\u001b[1;32m---> 32\u001b[1;33m         \u001b[0mself\u001b[0m\u001b[1;33m.\u001b[0m\u001b[0mbtn_1\u001b[0m\u001b[1;33m.\u001b[0m\u001b[0minitStyleOption\u001b[0m\u001b[1;33m(\u001b[0m\u001b[1;33m)\u001b[0m\u001b[1;33m\u001b[0m\u001b[1;33m\u001b[0m\u001b[0m\n\u001b[0m\u001b[0;32m     33\u001b[0m     \u001b[1;32mdef\u001b[0m \u001b[0mbt1cl\u001b[0m\u001b[1;33m(\u001b[0m\u001b[0mself\u001b[0m\u001b[1;33m)\u001b[0m\u001b[1;33m:\u001b[0m\u001b[1;33m\u001b[0m\u001b[1;33m\u001b[0m\u001b[0m\n\u001b[0;32m     34\u001b[0m         \u001b[0mprint\u001b[0m\u001b[1;33m(\u001b[0m\u001b[1;34m\"btn_1 clicked\"\u001b[0m\u001b[1;33m)\u001b[0m\u001b[1;33m\u001b[0m\u001b[1;33m\u001b[0m\u001b[0m\n",
      "\u001b[1;31mTypeError\u001b[0m: initStyleOption(self, QStyleOptionButton): not enough arguments"
     ]
    },
    {
     "name": "stdout",
     "output_type": "stream",
     "text": [
      "btn_1 released\n",
      "btn_1 clicked\n",
      "btn_2 released\n",
      "btn_2 released\n",
      "btn_2 released\n",
      "btn_2 released\n",
      "btn_2 released\n",
      "btn_2 released\n",
      "btn_2 released\n"
     ]
    }
   ],
   "source": [
    "import sys\n",
    "from PyQt5.QtWidgets import *\n",
    "from PyQt5 import uic\n",
    "\n",
    "## uic: ui 불러옴\n",
    "form_class = uic.loadUiType(\"pushbuttonTest.ui\")[0]\n",
    "\n",
    "## form_class와 QMainWindow 다중 상속\n",
    "class WindowClass(QMainWindow, form_class):\n",
    "    ## 클래스 내부에서 함수는 self를 써야함\n",
    "    def __init__(self):\n",
    "        ## 생성자 상속\n",
    "        super().__init__()\n",
    "        ## uic 상속을 했기에 가능한 듯\n",
    "        self.setupUi(self)\n",
    "        \n",
    "        ## 버튼에 기능을 넣는 코드\n",
    "        button = QPushButton(\"&Download\", self)\n",
    "        button.setText(\"default\")\n",
    "        ##setIcon은 QIcon이 파라미터로 들어갈 것\n",
    "        #button.setIcon(\"icon_sample.jpg\")\n",
    "        self.btn_1.pressed.connect(self.button1Function)\n",
    "        self.btn_1.clicked.connect(self.bt1cl)\n",
    "        self.btn_1.released.connect(self.bt1rel)\n",
    "        self.btn_2.released.connect(self.button2Function)\n",
    "        #self.btn_2.released.connect(print(\"btn_2 released\"))\n",
    "        self.btn_2.setFlat(True)\n",
    "        self.btn_2.initStyleOption\n",
    "    ## pressed-released-clicked\n",
    "    def button1Function(self):\n",
    "        print(\"btn_1 Pressed\")\n",
    "        self.btn_1.initStyleOption()\n",
    "    def bt1cl(self):\n",
    "        print(\"btn_1 clicked\")\n",
    "    def bt1rel(self):\n",
    "        print(\"btn_1 released\")\n",
    "    def button2Function(self):\n",
    "        print(\"btn_2 released\")\n",
    "\n",
    "if __name__ == \"__main__\":\n",
    "    ## QtWidgets의 QApplication을 app\n",
    "    app = QApplication(sys.argv)\n",
    "    myWindow = WindowClass()\n",
    "    \n",
    "    ## QMainWindow를 상속 받았기에 .show() 가능한듯\n",
    "    myWindow.show()\n",
    "    ## .exec_() QApplication 의 함수\n",
    "    app.exec_()"
   ]
  },
  {
   "cell_type": "markdown",
   "metadata": {},
   "source": [
    "### Functions\n",
    "```Python\n",
    "def autoDefault ()\n",
    "\n",
    "def initStyleOption (option)\n",
    "\n",
    "def isDefault ()\n",
    "\n",
    "def isFlat ()\n",
    "\n",
    "def menu ()\n",
    "\n",
    "def setAutoDefault (arg__1)\n",
    "\n",
    "def setDefault (arg__1)\n",
    "\n",
    "def setFlat (arg__1)\n",
    "\n",
    "def setMenu (menu)\n",
    "```"
   ]
  },
  {
   "cell_type": "code",
   "execution_count": 1,
   "metadata": {},
   "outputs": [
    {
     "name": "stdout",
     "output_type": "stream",
     "text": [
      "False\n",
      "False\n",
      "<PyQt5.QtWidgets.QMenu object at 0x0000019A94F5F678>\n"
     ]
    }
   ],
   "source": [
    "from PyQt5.QtWidgets import *\n",
    "from PyQt5 import uic\n",
    "from PyQt5.QtGui import QIcon\n",
    "import sys\n",
    "ui_form = uic.loadUiType(\"pushbuttonfunc.ui\")[0]\n",
    "\n",
    "class ButtonTest(QMainWindow, ui_form):\n",
    "    def __init__(self):\n",
    "        super().__init__()\n",
    "        self.setupUi(self)\n",
    "        \n",
    "        ## 잘 모르겠습니다.\n",
    "        self.pushButton_1.autoDefault ()\n",
    "        self.pushButton_1.setIcon(QIcon('icon_sample.jpg'))\n",
    "        \n",
    "        ## 잘 모르겠습니다.\n",
    "        style = QStyleOptionButton()\n",
    "        self.pushButton_2.initStyleOption (style)\n",
    "        \n",
    "        self.pushButton_3.isDefault()\n",
    "        print(self.pushButton_3.isDefault())\n",
    "\n",
    "        self.pushButton_4.isFlat()\n",
    "        print(self.pushButton_4.isFlat())\n",
    "\n",
    "        #self.pushButton_5.menu()\n",
    "        \n",
    "        ## 잘 모르겠습니다.\n",
    "        self.pushButton_6.setAutoDefault (True)\n",
    "\n",
    "        self.pushButton_7.setDefault (True)\n",
    "\n",
    "        self.pushButton_8.setFlat (True)\n",
    "       \n",
    "        menu = QMenu()\n",
    "        menu.addMenu(\"&abc\")\n",
    "        menu.addMenu(\"&def\")\n",
    "        menu.addMenu(\"&ghi\")\n",
    "        self.pushButton_9.setMenu (menu)\n",
    "        print(self.pushButton_9.menu())\n",
    "        #self.pushButton_9.released.connect(self.pushButton_9.showMenu())\n",
    "        \n",
    "        self.pushButton_5.setMenu (self.pushButton_9.menu())\n",
    "if __name__ == \"__main__\":\n",
    "    app = QApplication(sys.argv)\n",
    "    myWindow = ButtonTest()\n",
    "    myWindow.show()\n",
    "    app.exec_()"
   ]
  },
  {
   "cell_type": "markdown",
   "metadata": {},
   "source": [
    "## 2.3 QRadioButton"
   ]
  },
  {
   "cell_type": "code",
   "execution_count": 1,
   "metadata": {},
   "outputs": [
    {
     "name": "stdout",
     "output_type": "stream",
     "text": [
      "GroupBox_rad1 Chekced\n",
      "GroupBox_rad2 Checked\n",
      "GroupBox_rad3 Checked\n",
      "GroupBox_rad4 Checked\n"
     ]
    }
   ],
   "source": [
    "import sys\n",
    "from PyQt5.QtWidgets import *\n",
    "from PyQt5 import uic\n",
    "\n",
    "form_class = uic.loadUiType(\"radiobuttonTest.ui\")[0]\n",
    "\n",
    "class WindowClass(QMainWindow, form_class) :\n",
    "    def __init__(self) :\n",
    "        super().__init__()\n",
    "        self.setupUi(self)\n",
    "\n",
    "        #GroupBox안에 있는 RadioButton들을 연결합니다.\n",
    "        #GroupBox의 자세한 설명은 02.14 GroupBox를 참고하세요.\n",
    "        self.groupBox_rad1.clicked.connect(self.groupboxRadFunction)\n",
    "        self.groupBox_rad2.clicked.connect(self.groupboxRadFunction)\n",
    "        self.groupBox_rad3.clicked.connect(self.groupboxRadFunction)\n",
    "        self.groupBox_rad4.clicked.connect(self.groupboxRadFunction)\n",
    "\n",
    "    def groupboxRadFunction(self) :\n",
    "        if self.groupBox_rad1.isChecked() : \n",
    "            print(\"GroupBox_rad1 Chekced\")\n",
    "        elif self.groupBox_rad2.isChecked() : \n",
    "            print(\"GroupBox_rad2 Checked\")\n",
    "        elif self.groupBox_rad3.isChecked() : \n",
    "            print(\"GroupBox_rad3 Checked\")\n",
    "        elif self.groupBox_rad4.isChecked() : \n",
    "            print(\"GroupBox_rad4 Checked\")\n",
    "\n",
    "if __name__ == \"__main__\" :\n",
    "    app = QApplication(sys.argv)\n",
    "    myWindow = WindowClass()\n",
    "    myWindow.show()\n",
    "    app.exec_()"
   ]
  },
  {
   "cell_type": "markdown",
   "metadata": {},
   "source": [
    "### signal\n",
    "- toggled()\n",
    "\n",
    "### slot\n"
   ]
  },
  {
   "cell_type": "markdown",
   "metadata": {},
   "source": [
    "### important inherited members\n",
    "text() , setText() , text() , setDown() , isDown() , autoRepeat() , group() , setAutoRepeat() , toggle() , pressed() , released() , clicked() , and toggled() ."
   ]
  },
  {
   "cell_type": "code",
   "execution_count": 1,
   "metadata": {},
   "outputs": [
    {
     "name": "stdout",
     "output_type": "stream",
     "text": [
      "GroupBox_rad1 Chekced\n",
      "GroupBox_rad2 Checked\n",
      "GroupBox_rad3 Checked\n",
      "GroupBox_rad4 Checked\n"
     ]
    }
   ],
   "source": [
    "import sys\n",
    "from PyQt5.QtWidgets import *\n",
    "from PyQt5 import uic\n",
    "from PyQt5.QtGui import QIcon\n",
    "\n",
    "form_class = uic.loadUiType(\"radiobuttonTest.ui\")[0]\n",
    "\n",
    "class WindowClass(QMainWindow, form_class) :\n",
    "    def __init__(self) :\n",
    "        super().__init__()\n",
    "        self.setupUi(self)\n",
    "        button = QRadioButton(\"Search from the &cursor\", self)\n",
    "        #GroupBox안에 있는 RadioButton들을 연결합니다.\n",
    "        #GroupBox의 자세한 설명은 02.14 GroupBox를 참고하세요.\n",
    "        self.groupBox_rad1.clicked.connect(self.groupboxRadFunction)\n",
    "        self.groupBox_rad1.setIcon(QIcon('icon_sample.jpg'))\n",
    "        self.groupBox_rad2.clicked.connect(self.groupboxRadFunction)\n",
    "        self.groupBox_rad3.clicked.connect(self.groupboxRadFunction)\n",
    "        self.groupBox_rad4.clicked.connect(self.groupboxRadFunction)\n",
    "\n",
    "    def groupboxRadFunction(self) :\n",
    "        if self.groupBox_rad1.isChecked() : \n",
    "            print(\"GroupBox_rad1 Chekced\")\n",
    "        elif self.groupBox_rad2.isChecked() : \n",
    "            print(\"GroupBox_rad2 Checked\")\n",
    "        elif self.groupBox_rad3.isChecked() : \n",
    "            print(\"GroupBox_rad3 Checked\")\n",
    "        elif self.groupBox_rad4.isChecked() : \n",
    "            print(\"GroupBox_rad4 Checked\")\n",
    "\n",
    "if __name__ == \"__main__\" :\n",
    "    app = QApplication(sys.argv)\n",
    "    myWindow = WindowClass()\n",
    "    myWindow.show()\n",
    "    app.exec_()"
   ]
  },
  {
   "cell_type": "markdown",
   "metadata": {},
   "source": [
    "### Functions\n",
    "```Python\n",
    "def initStyleOption (button)\n",
    "```"
   ]
  },
  {
   "cell_type": "markdown",
   "metadata": {},
   "source": [
    "## 2.4 QCheckBox"
   ]
  },
  {
   "cell_type": "code",
   "execution_count": 1,
   "metadata": {},
   "outputs": [
    {
     "name": "stdout",
     "output_type": "stream",
     "text": [
      "checkBox is checked\n",
      "checkBox is checked\n",
      "checkBox is checked\n"
     ]
    }
   ],
   "source": [
    "import sys\n",
    "from PyQt5.QtWidgets import *\n",
    "from PyQt5 import uic\n",
    "\n",
    "form_class = uic.loadUiType(\"checkboxTest.ui\")[0]\n",
    "\n",
    "class WindowClass(QMainWindow, form_class):\n",
    "    def __init__(self):\n",
    "        super().__init__()\n",
    "        self.setupUi(self)\n",
    "        \n",
    "        self.checkBox.stateChanged.connect(self.chkFunction)\n",
    "        self.checkBox_2.stateChanged.connect(self.chkFunction)\n",
    "        self.checkBox_3.stateChanged.connect(self.chkFunction)\n",
    "        self.checkBox_4.stateChanged.connect(self.chkFunction)\n",
    "        \n",
    "        self.checkBox_5.stateChanged.connect(self.gChkFunction)\n",
    "        self.checkBox_6.stateChanged.connect(self.gChkFunction)\n",
    "        self.checkBox_7.stateChanged.connect(self.gChkFunction)\n",
    "        self.checkBox_8.stateChanged.connect(self.gChkFunction)\n",
    "        \n",
    "    def chkFunction(self):\n",
    "        if self.checkBox.isChecked():\n",
    "            print(\"checkBox is checked\")\n",
    "        if self.checkBox_2.isChecked():\n",
    "            print(\"checkBox_2 is checked\")\n",
    "        if self.checkBox_3.isChecked():\n",
    "            print(\"checkBox_3 is checked\")\n",
    "        if self.checkBox_4.isChecked():\n",
    "            print(\"checkBox_4 is checked\")\n",
    "            \n",
    "    def gChkFunction(self):\n",
    "        if self.checkBox_5.isChecked():\n",
    "            print(\"checkBox_5 is checked\")\n",
    "        if self.checkBox_6.isChecked():\n",
    "            print(\"checkBox_6 is checked\")\n",
    "        if self.checkBox_7.isChecked():\n",
    "            print(\"checkBox_7 is checked\")\n",
    "        if self.checkBox_8.isChecked():\n",
    "            print(\"checkBox_8 is checked\")\n",
    "if __name__ == \"__main__\":\n",
    "    app = QApplication(sys.argv)\n",
    "    myWindow = WindowClass()\n",
    "    myWindow.show()\n",
    "    app.exec_()"
   ]
  },
  {
   "cell_type": "markdown",
   "metadata": {},
   "source": [
    "### signal\n",
    "```Python\n",
    "def stateChanged (arg__1)\n",
    "```\n",
    "### slot\n"
   ]
  },
  {
   "cell_type": "code",
   "execution_count": 1,
   "metadata": {},
   "outputs": [
    {
     "name": "stdout",
     "output_type": "stream",
     "text": [
      "checkBox_8 is checked\n",
      "chkbox is changed\n",
      "chkbox is changed\n",
      "checkBox_8 is checked\n",
      "chkbox is changed\n",
      "chkbox is changed\n",
      "checkBox_7 is checked\n",
      "checkBox_8 is checked\n",
      "chkbox is changed\n",
      "chkbox is changed\n"
     ]
    }
   ],
   "source": [
    "import sys\n",
    "from PyQt5.QtWidgets import *\n",
    "from PyQt5 import uic\n",
    "\n",
    "form_class = uic.loadUiType(\"checkboxTest.ui\")[0]\n",
    "\n",
    "class WindowClass(QMainWindow, form_class):\n",
    "    def __init__(self):\n",
    "        super().__init__()\n",
    "        self.setupUi(self)\n",
    "        \n",
    "        self.checkBox.stateChanged.connect(self.chkFunction)\n",
    "        self.checkBox_2.stateChanged.connect(self.chkFunction)\n",
    "        self.checkBox_3.stateChanged.connect(self.chkFunction)\n",
    "        self.checkBox_4.stateChanged.connect(self.chkFunction)\n",
    "        \n",
    "        self.checkBox_5.stateChanged.connect(self.gChkFunction)\n",
    "        self.checkBox_6.stateChanged.connect(self.gChkFunction)\n",
    "        self.checkBox_7.stateChanged.connect(self.gChkFunction)\n",
    "        self.checkBox_8.stateChanged.connect(self.gChkFunction)\n",
    "        \n",
    "        self.checkBox_8.clicked.connect(self.print_chk8)\n",
    "        \n",
    "    def chkFunction(self):\n",
    "        if self.checkBox.isChecked():\n",
    "            print(\"checkBox is checked\")\n",
    "        if self.checkBox_2.isChecked():\n",
    "            print(\"checkBox_2 is checked\")\n",
    "        if self.checkBox_3.isChecked():\n",
    "            print(\"checkBox_3 is checked\")\n",
    "        if self.checkBox_4.isChecked():\n",
    "            print(\"checkBox_4 is checked\")\n",
    "            \n",
    "    def gChkFunction(self):\n",
    "        if self.checkBox_5.isChecked():\n",
    "            print(\"checkBox_5 is checked\")\n",
    "        if self.checkBox_6.isChecked():\n",
    "            print(\"checkBox_6 is checked\")\n",
    "        if self.checkBox_7.isChecked():\n",
    "            print(\"checkBox_7 is checked\")\n",
    "        if self.checkBox_8.isChecked():\n",
    "            print(\"checkBox_8 is checked\")\n",
    "            \n",
    "    def print_chk8(self):\n",
    "        print(\"chkbox is changed\")\n",
    "if __name__ == \"__main__\":\n",
    "    app = QApplication(sys.argv)\n",
    "    myWindow = WindowClass()\n",
    "    myWindow.show()\n",
    "    app.exec_()"
   ]
  },
  {
   "cell_type": "markdown",
   "metadata": {},
   "source": [
    "### Functions\n",
    "```Python\n",
    "def checkState ()\n",
    "\n",
    "def initStyleOption (option)\n",
    "\n",
    "def isTristate ()\n",
    "\n",
    "def setCheckState (state)\n",
    "\n",
    "def setTristate ([y=true])\n",
    "```"
   ]
  },
  {
   "cell_type": "code",
   "execution_count": null,
   "metadata": {},
   "outputs": [
    {
     "name": "stdout",
     "output_type": "stream",
     "text": [
      "0\n",
      "False\n",
      "True\n"
     ]
    }
   ],
   "source": [
    "import sys\n",
    "from PyQt5.QtWidgets import *\n",
    "from PyQt5 import uic\n",
    "form_class = uic.loadUiType(\"checkboxFunc.ui\")[0]\n",
    "\n",
    "class Window(form_class, QMainWindow):\n",
    "    def __init__(self):\n",
    "        super().__init__()\n",
    "        self.setupUi(self)\n",
    "        \n",
    "        self.checkBox_1.checkState()\n",
    "        print(self.checkBox_1.checkState())\n",
    "        \n",
    "        #잘 모르겠습니다.\n",
    "        #self.checkBox_2.initStyleOption (option)\n",
    "\n",
    "        self.checkBox_3.isTristate ()\n",
    "        print(self.checkBox_3.isTristate ())\n",
    "        \n",
    "        self.checkBox_4.setCheckState (False)\n",
    "        \n",
    "        self.checkBox_5.setTristate ()\n",
    "        print(self.checkBox_5.isTristate ())\n",
    "if __name__ == \"__main__\":\n",
    "    app = QApplication(sys.argv)\n",
    "    myWindow = Window()\n",
    "    myWindow.show()\n",
    "    app.exec_()"
   ]
  },
  {
   "cell_type": "code",
   "execution_count": null,
   "metadata": {},
   "outputs": [],
   "source": []
  }
 ],
 "metadata": {
  "kernelspec": {
   "display_name": "Python 3",
   "language": "python",
   "name": "python3"
  },
  "language_info": {
   "codemirror_mode": {
    "name": "ipython",
    "version": 3
   },
   "file_extension": ".py",
   "mimetype": "text/x-python",
   "name": "python",
   "nbconvert_exporter": "python",
   "pygments_lexer": "ipython3",
   "version": "3.7.4"
  }
 },
 "nbformat": 4,
 "nbformat_minor": 4
}
