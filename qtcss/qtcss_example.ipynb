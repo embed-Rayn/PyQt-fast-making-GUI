{
 "cells": [
  {
   "cell_type": "markdown",
   "metadata": {},
   "source": [
    "# [pyqtcss](https://github.com/sommerc/pyqt-stylesheets)"
   ]
  },
  {
   "cell_type": "code",
   "execution_count": 1,
   "metadata": {},
   "outputs": [
    {
     "data": {
      "text/plain": [
       "['classic', 'dark_blue', 'dark_orange']"
      ]
     },
     "execution_count": 1,
     "metadata": {},
     "output_type": "execute_result"
    }
   ],
   "source": [
    "import pyqtcss\n",
    "## 사용할 수 있는 스타일 시트 종류\n",
    "pyqtcss.available_styles()"
   ]
  },
  {
   "cell_type": "code",
   "execution_count": 2,
   "metadata": {},
   "outputs": [],
   "source": [
    "import sys\n",
    "from PyQt5.QtWidgets import *\n",
    "from PyQt5 import uic\n",
    "import pyqtcss\n",
    "form_class = uic.loadUiType(\"style.ui\")[0]\n",
    "\n",
    "class WindowClass(QMainWindow, form_class) :\n",
    "    def __init__(self) :\n",
    "        super().__init__()\n",
    "        self.setupUi(self)\n",
    "        \n",
    "        ## 사용할 스타일 시트 설정\n",
    "        style_string = pyqtcss.get_style(\"dark_orange\")\n",
    "        \n",
    "        ## 오브젝트 별 스타일 설정\n",
    "        self.pushButton.setFlat(True)\n",
    "        #self.Dialog.setStyleSheet(style_string)\n",
    "        self.textEdit.setStyleSheet(style_string)\n",
    "        self.pushButton.setStyleSheet(style_string)\n",
    "        self.spinBox.setStyleSheet(style_string)\n",
    "        self.dial.setStyleSheet(style_string)\n",
    "if __name__ == \"__main__\" :\n",
    "    app = QApplication(sys.argv)\n",
    "    myWindow = WindowClass()\n",
    "    myWindow.show()\n",
    "    app.exec_()"
   ]
  },
  {
   "cell_type": "code",
   "execution_count": null,
   "metadata": {},
   "outputs": [],
   "source": []
  }
 ],
 "metadata": {
  "kernelspec": {
   "display_name": "Python 3",
   "language": "python",
   "name": "python3"
  },
  "language_info": {
   "codemirror_mode": {
    "name": "ipython",
    "version": 3
   },
   "file_extension": ".py",
   "mimetype": "text/x-python",
   "name": "python",
   "nbconvert_exporter": "python",
   "pygments_lexer": "ipython3",
   "version": "3.7.6"
  }
 },
 "nbformat": 4,
 "nbformat_minor": 4
}
